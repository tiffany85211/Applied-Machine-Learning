{
 "cells": [
  {
   "cell_type": "markdown",
   "metadata": {},
   "source": [
    "# Applied Machine Learning CS5785 Homework 1\n",
    "\n",
    "Group: Ting-Wei Chiang (tc695), Jeremy Shaffer (jms995)\n",
    "\n",
    "\n",
    "## Programming Exercise 2 - Predicting House Prices\n",
    "\n",
    "Kaggle competition: https://www.kaggle.com/c/house-prices-advanced-regression-techniques"
   ]
  },
  {
   "cell_type": "code",
   "execution_count": 1,
   "metadata": {},
   "outputs": [],
   "source": [
    "# Import libraries\n",
    "\n",
    "import pandas as pd\n",
    "import numpy as np\n",
    "\n",
    "import matplotlib.pyplot as plt\n",
    "plt.rcParams['figure.figsize'] = [12, 4]"
   ]
  },
  {
   "cell_type": "markdown",
   "metadata": {},
   "source": [
    "### (a) Data Preprocessing"
   ]
  },
  {
   "cell_type": "code",
   "execution_count": 2,
   "metadata": {},
   "outputs": [],
   "source": [
    "# Load dataset\n",
    "\n",
    "train = pd.read_csv('./data/train.csv')\n",
    "test = pd.read_csv('./data/test.csv')"
   ]
  },
  {
   "cell_type": "markdown",
   "metadata": {},
   "source": [
    "#### Data exploration"
   ]
  },
  {
   "cell_type": "code",
   "execution_count": 3,
   "metadata": {},
   "outputs": [
    {
     "name": "stdout",
     "output_type": "stream",
     "text": [
      "Train data shape: (1460, 81)\n",
      "Test data shape: (1459, 80)\n"
     ]
    }
   ],
   "source": [
    "print (\"Train data shape:\", train.shape)\n",
    "print (\"Test data shape:\", test.shape)"
   ]
  },
  {
   "cell_type": "code",
   "execution_count": 4,
   "metadata": {},
   "outputs": [],
   "source": [
    "# train.head()"
   ]
  },
  {
   "cell_type": "code",
   "execution_count": 5,
   "metadata": {},
   "outputs": [],
   "source": [
    "# test.head()"
   ]
  },
  {
   "cell_type": "markdown",
   "metadata": {},
   "source": [
    "#### Defining and scaling training target"
   ]
  },
  {
   "cell_type": "code",
   "execution_count": 6,
   "metadata": {},
   "outputs": [],
   "source": [
    "# train.SalePrice.describe()"
   ]
  },
  {
   "cell_type": "code",
   "execution_count": 7,
   "metadata": {},
   "outputs": [
    {
     "name": "stdout",
     "output_type": "stream",
     "text": [
      "Skew for Saleprice = 1.8828757597682129\n"
     ]
    },
    {
     "data": {
      "image/png": "[encoded data removed]",
      "text/plain": [
       "<Figure size 864x288 with 1 Axes>"
      ]
     },
     "metadata": {
      "needs_background": "light"
     },
     "output_type": "display_data"
    },
    {
     "name": "stdout",
     "output_type": "stream",
     "text": [
      "Skew for log(Saleprice) = 0.12133506220520406\n"
     ]
    },
    {
     "data": {
      "image/png": "[encoded data removed]",
      "text/plain": [
       "<Figure size 864x288 with 1 Axes>"
      ]
     },
     "metadata": {
      "needs_background": "light"
     },
     "output_type": "display_data"
    }
   ],
   "source": [
    "print (\"Skew for Saleprice =\", train.SalePrice.skew())\n",
    "plt.hist(train.SalePrice)\n",
    "plt.show()\n",
    "print (\"Skew for log(Saleprice) =\", np.log(train.SalePrice).skew())\n",
    "plt.hist(np.log(train.SalePrice))    # Looks more like normal distribution after log transformation\n",
    "plt.show()"
   ]
  },
  {
   "cell_type": "code",
   "execution_count": 8,
   "metadata": {},
   "outputs": [],
   "source": [
    "# Define training target/label\n",
    "\n",
    "y_train = np.log(train.SalePrice)"
   ]
  },
  {
   "cell_type": "markdown",
   "metadata": {},
   "source": [
    "#### Feature Engineering"
   ]
  },
  {
   "cell_type": "code",
   "execution_count": 9,
   "metadata": {},
   "outputs": [],
   "source": [
    "X = pd.concat([train, test], ignore_index=True)\n",
    "X = X.drop(columns = ['Id'])"
   ]
  },
  {
   "cell_type": "code",
   "execution_count": 10,
   "metadata": {},
   "outputs": [
    {
     "name": "stdout",
     "output_type": "stream",
     "text": [
      "OverallQual    0.790982\n",
      "GrLivArea      0.708624\n",
      "GarageCars     0.640409\n",
      "GarageArea     0.623431\n",
      "TotalBsmtSF    0.613581\n",
      "Name: SalePrice, dtype: float64\n",
      "KitchenAbvGr    -0.135907\n",
      "EnclosedPorch   -0.128578\n",
      "MSSubClass      -0.084284\n",
      "OverallCond     -0.077856\n",
      "YrSold          -0.028923\n",
      "Name: SalePrice, dtype: float64\n"
     ]
    }
   ],
   "source": [
    "# Numeric features\n",
    "\n",
    "numeric_features = train.select_dtypes(include=[np.number])\n",
    "corr = numeric_features.corr()\n",
    "print (corr['SalePrice'].sort_values(ascending=False)[1:6])\n",
    "print (corr['SalePrice'].sort_values(ascending=True)[:5])"
   ]
  },
  {
   "cell_type": "code",
   "execution_count": 11,
   "metadata": {},
   "outputs": [],
   "source": [
    "# Missing Data Imputation: median\n",
    "\n",
    "X_target = X.SalePrice\n",
    "X = X.iloc[:, :-1].fillna(X.median())"
   ]
  },
  {
   "cell_type": "code",
   "execution_count": 12,
   "metadata": {},
   "outputs": [
    {
     "name": "stdout",
     "output_type": "stream",
     "text": [
      "Index(['MSSubClass', 'LotFrontage', 'LotArea', 'MasVnrArea', 'BsmtFinSF1',\n",
      "       'BsmtFinSF2', 'BsmtUnfSF', 'TotalBsmtSF', '1stFlrSF', '2ndFlrSF',\n",
      "       'LowQualFinSF', 'GrLivArea', 'BsmtHalfBath', 'KitchenAbvGr',\n",
      "       'TotRmsAbvGrd', 'WoodDeckSF', 'OpenPorchSF', 'EnclosedPorch',\n",
      "       '3SsnPorch', 'ScreenPorch', 'PoolArea', 'MiscVal'],\n",
      "      dtype='object')\n"
     ]
    }
   ],
   "source": [
    "# Log transform skewed numeric features\n",
    "numeric_features = X.dtypes[X.dtypes != \"object\"].index\n",
    "skewed_features = X[numeric_features].apply(lambda x: x.skew()) #compute skewness\n",
    "skewed_features = skewed_features[skewed_features > 0.75]\n",
    "skewed_features = skewed_features.index\n",
    "print(skewed_features)\n",
    "X[skewed_features] = np.log1p(X[skewed_features])"
   ]
  },
  {
   "cell_type": "code",
   "execution_count": 13,
   "metadata": {},
   "outputs": [
    {
     "data": {
      "text/plain": [
       "PoolQC          2909\n",
       "MiscFeature     2814\n",
       "Alley           2721\n",
       "Fence           2348\n",
       "FireplaceQu     1420\n",
       "GarageCond       159\n",
       "GarageQual       159\n",
       "GarageFinish     159\n",
       "GarageType       157\n",
       "BsmtExposure      82\n",
       "BsmtCond          82\n",
       "BsmtQual          81\n",
       "BsmtFinType2      80\n",
       "BsmtFinType1      79\n",
       "MasVnrType        24\n",
       "MSZoning           4\n",
       "Functional         2\n",
       "Utilities          2\n",
       "Exterior1st        1\n",
       "SaleType           1\n",
       "Exterior2nd        1\n",
       "KitchenQual        1\n",
       "Electrical         1\n",
       "dtype: int64"
      ]
     },
     "execution_count": 13,
     "metadata": {},
     "output_type": "execute_result"
    }
   ],
   "source": [
    "# Categorical features\n",
    "\n",
    "train_null_count = X.isnull().sum()    # can also use df.isna()\n",
    "train_null_count[train_null_count > 0].sort_values(ascending=False)"
   ]
  },
  {
   "cell_type": "code",
   "execution_count": 14,
   "metadata": {},
   "outputs": [],
   "source": [
    "# One hot encoding\n",
    "\n",
    "X = pd.get_dummies(X)"
   ]
  },
  {
   "cell_type": "code",
   "execution_count": 15,
   "metadata": {},
   "outputs": [],
   "source": [
    "X = pd.concat([X, X_target], axis=1)\n",
    "X_train = X.loc[X['SalePrice'].notna()]\n",
    "X_test = X.loc[X['SalePrice'].isna()]\n",
    "# Drop columns\n",
    "X_train = X_train.drop(columns = ['SalePrice'])\n",
    "X_test = X_test.drop(columns = ['SalePrice'])"
   ]
  },
  {
   "cell_type": "code",
   "execution_count": 16,
   "metadata": {},
   "outputs": [
    {
     "name": "stdout",
     "output_type": "stream",
     "text": [
      "(1460, 288)\n",
      "(1459, 288)\n"
     ]
    }
   ],
   "source": [
    "print(X_train.shape)\n",
    "print(X_test.shape)"
   ]
  },
  {
   "cell_type": "markdown",
   "metadata": {},
   "source": [
    "### (b) Linear model: Least squares"
   ]
  },
  {
   "cell_type": "code",
   "execution_count": 17,
   "metadata": {},
   "outputs": [],
   "source": [
    "from sklearn.model_selection import train_test_split\n",
    "from sklearn.linear_model import LinearRegression, Ridge, RidgeCV, Lasso, LassoCV\n",
    "from sklearn.metrics import mean_squared_error"
   ]
  },
  {
   "cell_type": "code",
   "execution_count": 18,
   "metadata": {},
   "outputs": [],
   "source": [
    "X_train_all = X_train\n",
    "y_train_all = y_train\n",
    "X_train, X_val, y_train, y_val = train_test_split(X_train, y_train, test_size=.15)"
   ]
  },
  {
   "cell_type": "code",
   "execution_count": 19,
   "metadata": {},
   "outputs": [
    {
     "name": "stdout",
     "output_type": "stream",
     "text": [
      "R square for Linear Regression = 0.8635344110091863\n",
      "RMSE for Linear Regression = 0.14783526514493664\n"
     ]
    }
   ],
   "source": [
    "lr = LinearRegression()\n",
    "linear_model = lr.fit(X_train, y_train)\n",
    "print (\"R square for Linear Regression =\", linear_model.score(X_val, y_val))\n",
    "print ('RMSE for Linear Regression =', mean_squared_error(y_val, linear_model.predict(X_val), squared=False))"
   ]
  },
  {
   "cell_type": "code",
   "execution_count": 20,
   "metadata": {},
   "outputs": [],
   "source": [
    "# train model using all training data\n",
    "linear_model = LinearRegression().fit(X_train_all, y_train_all)"
   ]
  },
  {
   "cell_type": "markdown",
   "metadata": {},
   "source": [
    "### (c) Regularized Least Squares"
   ]
  },
  {
   "cell_type": "markdown",
   "metadata": {},
   "source": [
    "#### L1 Regularization: "
   ]
  },
  {
   "cell_type": "code",
   "execution_count": 34,
   "metadata": {},
   "outputs": [],
   "source": [
    "alphas = 10**np.arange(-3.8, 0, 0.1)"
   ]
  },
  {
   "cell_type": "code",
   "execution_count": 35,
   "metadata": {},
   "outputs": [
    {
     "name": "stdout",
     "output_type": "stream",
     "text": [
      "R square for Lasso Regression = 0.8846590255646778\n",
      "RMSE for Lasso Regression = 0.13591214780524483\n",
      "when alpha = 0.00015848931924611142\n"
     ]
    }
   ],
   "source": [
    "# choose alpha by min RMSE on validation set\n",
    "\n",
    "model_list = []\n",
    "rsquare_list = []\n",
    "rmse_list = []\n",
    "for alpha in alphas:\n",
    "    model = Lasso(alpha=alpha)\n",
    "    model = model.fit(X_train, y_train)\n",
    "    model_list.append(model)\n",
    "    pred = model.predict(X_val)\n",
    "    rsquare_list.append(model.score(X_val, y_val))\n",
    "    rmse_list.append(mean_squared_error(y_val, pred, squared=False))\n",
    "print(\"R square for Lasso Regression =\", rsquare_list[rmse_list.index(min(rmse_list))])\n",
    "print(\"RMSE for Lasso Regression =\", min(rmse_list))\n",
    "print(\"when alpha =\", alphas[rmse_list.index(min(rmse_list))])\n",
    "\n",
    "lasso_model_2 = model_list[rmse_list.index(min(rmse_list))]"
   ]
  },
  {
   "cell_type": "code",
   "execution_count": 36,
   "metadata": {},
   "outputs": [
    {
     "name": "stdout",
     "output_type": "stream",
     "text": [
      "R square for Lasso Regression = 0.8822966758820248\n",
      "RMSE for Lasso Regression = 0.13729693165806447\n",
      "when alpha = 0.00031622776601683826\n"
     ]
    }
   ],
   "source": [
    "# choose alpha by cross validation on training set\n",
    "\n",
    "lasso_model = LassoCV(alphas = alphas, cv=5).fit(X_train, y_train)\n",
    "print (\"R square for Lasso Regression =\", lasso_model.score(X_val, y_val))\n",
    "print (\"RMSE for Lasso Regression =\", mean_squared_error(y_val, lasso_model.predict(X_val), squared=False))\n",
    "print (\"when alpha =\", lasso_model.alpha_)"
   ]
  },
  {
   "cell_type": "code",
   "execution_count": 37,
   "metadata": {},
   "outputs": [],
   "source": [
    "# train model using all training data\n",
    "lasso_model = Lasso(alpha = lasso_model.alpha_).fit(X_train_all, y_train_all)"
   ]
  },
  {
   "cell_type": "code",
   "execution_count": 25,
   "metadata": {},
   "outputs": [
    {
     "name": "stdout",
     "output_type": "stream",
     "text": [
      "Lasso picked 130 variables and eliminated the other 158 variables\n"
     ]
    },
    {
     "data": {
      "text/plain": [
       "Text(0.5, 1.0, 'Coefficients in the Lasso Model')"
      ]
     },
     "execution_count": 25,
     "metadata": {},
     "output_type": "execute_result"
    },
    {
     "data": {
      "image/png": "[encoded data removed]",
      "text/plain": [
       "<Figure size 576x720 with 1 Axes>"
      ]
     },
     "metadata": {
      "needs_background": "light"
     },
     "output_type": "display_data"
    }
   ],
   "source": [
    "coef = pd.Series(lasso_model.coef_, index = X_train.columns)\n",
    "print(\"Lasso picked \" + str(sum(coef != 0)) + \" variables and eliminated the other \" +  str(sum(coef == 0)) + \" variables\")\n",
    "imp_coef = pd.concat([coef.sort_values().head(10),\n",
    "                     coef.sort_values().tail(10)])\n",
    "plt.rcParams['figure.figsize'] = (8.0, 10.0)\n",
    "imp_coef.plot(kind = \"barh\")\n",
    "plt.title(\"Coefficients in the Lasso Model\")"
   ]
  },
  {
   "cell_type": "markdown",
   "metadata": {},
   "source": [
    "#### L2 Regularization:"
   ]
  },
  {
   "cell_type": "code",
   "execution_count": 26,
   "metadata": {},
   "outputs": [],
   "source": [
    "alphas = 10**np.arange(-2, 2, 0.1)"
   ]
  },
  {
   "cell_type": "code",
   "execution_count": 27,
   "metadata": {},
   "outputs": [
    {
     "name": "stdout",
     "output_type": "stream",
     "text": [
      "R square for Ridge Regression = 0.8849264523043345\n",
      "RMSE for Ridge Regression = 0.1357544950922601\n",
      "when alpha = 0.3162277660168389\n"
     ]
    }
   ],
   "source": [
    "# choose alpha by min RMSE on validation set\n",
    "\n",
    "model_list = []\n",
    "rsquare_list = []\n",
    "rmse_list = []\n",
    "for alpha in alphas:\n",
    "    model = Ridge(alpha=alpha)\n",
    "    model = model.fit(X_train, y_train)\n",
    "    model_list.append(model)\n",
    "    pred = model.predict(X_val)\n",
    "    rsquare_list.append(model.score(X_val, y_val))\n",
    "    rmse_list.append(mean_squared_error(y_val, pred, squared=False))\n",
    "print(\"R square for Ridge Regression =\", rsquare_list[rmse_list.index(min(rmse_list))])\n",
    "print(\"RMSE for Ridge Regression =\", min(rmse_list))\n",
    "print(\"when alpha =\", alphas[rmse_list.index(min(rmse_list))])\n",
    "\n",
    "ridge_model_2 = model_list[rmse_list.index(min(rmse_list))]"
   ]
  },
  {
   "cell_type": "code",
   "execution_count": 28,
   "metadata": {},
   "outputs": [
    {
     "name": "stdout",
     "output_type": "stream",
     "text": [
      "R square for Ridge Regression = 0.8731607267390984\n",
      "RMSE for Ridge Regression = 0.14252575165691989\n",
      "when alpha = 15.84893192461124\n"
     ]
    }
   ],
   "source": [
    "# choose alpha by cross validation on training set\n",
    "\n",
    "ridge_model = RidgeCV(alphas = alphas, cv=5).fit(X_train, y_train)\n",
    "print (\"R square for Ridge Regression =\", ridge_model.score(X_val, y_val))\n",
    "print (\"RMSE for Ridge Regression =\", mean_squared_error(y_val, ridge_model.predict(X_val), squared=False))\n",
    "print (\"when alpha =\", ridge_model.alpha_)"
   ]
  },
  {
   "cell_type": "code",
   "execution_count": 29,
   "metadata": {},
   "outputs": [],
   "source": [
    "# train model using all training data\n",
    "ridge_model = Lasso(alpha = ridge_model.alpha_).fit(X_train_all, y_train_all)"
   ]
  },
  {
   "cell_type": "markdown",
   "metadata": {},
   "source": [
    "### Submission to Kaggle"
   ]
  },
  {
   "cell_type": "code",
   "execution_count": 30,
   "metadata": {},
   "outputs": [],
   "source": [
    "pred_linear = np.exp(linear_model.predict(X_test))\n",
    "pred_lasso = np.exp(lasso_model.predict(X_test))\n",
    "pred_ridge = np.exp(ridge_model.predict(X_test))"
   ]
  },
  {
   "cell_type": "code",
   "execution_count": 31,
   "metadata": {},
   "outputs": [],
   "source": [
    "res = pd.DataFrame()\n",
    "res['Id'] = test.Id\n",
    "res['SalePrice'] = pred_linear\n",
    "res.to_csv('res_linear_all.csv', index=False)"
   ]
  },
  {
   "cell_type": "code",
   "execution_count": 32,
   "metadata": {},
   "outputs": [],
   "source": [
    "res = pd.DataFrame()\n",
    "res['Id'] = test.Id\n",
    "res['SalePrice'] = pred_lasso\n",
    "res.to_csv('res_lasso_all.csv', index=False)"
   ]
  },
  {
   "cell_type": "code",
   "execution_count": 33,
   "metadata": {},
   "outputs": [],
   "source": [
    "res = pd.DataFrame()\n",
    "res['Id'] = test.Id\n",
    "res['SalePrice'] = pred_ridge\n",
    "res.to_csv('res_ridge_all.csv', index=False)"
   ]
  }
 ],
 "metadata": {
  "kernelspec": {
   "display_name": "Python 3",
   "language": "python",
   "name": "python3"
  },
  "language_info": {
   "codemirror_mode": {
    "name": "ipython",
    "version": 3
   },
   "file_extension": ".py",
   "mimetype": "text/x-python",
   "name": "python",
   "nbconvert_exporter": "python",
   "pygments_lexer": "ipython3",
   "version": "3.6.10"
  }
 },
 "nbformat": 4,
 "nbformat_minor": 4
}
