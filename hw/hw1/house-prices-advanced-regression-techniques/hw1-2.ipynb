{
 "cells": [
  {
   "cell_type": "markdown",
   "metadata": {},
   "source": [
    "# Applied Machine Learning CS5785 Homework 1\n",
    "## Programming Exercise 2 - Predicting House Prices\n",
    "\n",
    "\n",
    "Group: Ting-Wei Chiang (tc695), Jeremy Shaffer (jms995)\n",
    "\n",
    "Kaggle competition: https://www.kaggle.com/c/house-prices-advanced-regression-techniques"
   ]
  },
  {
   "cell_type": "code",
   "execution_count": 1,
   "metadata": {},
   "outputs": [],
   "source": [
    "# Import libraries\n",
    "import pandas as pd\n",
    "import numpy as np\n",
    "\n",
    "import matplotlib.pyplot as plt\n",
    "plt.rcParams['figure.figsize'] = [8, 6]"
   ]
  },
  {
   "cell_type": "code",
   "execution_count": 2,
   "metadata": {},
   "outputs": [],
   "source": [
    "# Load dataset\n",
    "train = pd.read_csv('./data/train.csv')\n",
    "test = pd.read_csv('./data/test.csv')"
   ]
  },
  {
   "cell_type": "markdown",
   "metadata": {},
   "source": [
    "### Data Exploration"
   ]
  },
  {
   "cell_type": "markdown",
   "metadata": {},
   "source": [
    "From our first glance of data, we observed that: \n",
    "1. There are both numeric and categorical features.\n",
    "2. There are some missing values (NaNs) that need to be taken care of.\n",
    "3. Column `Id` should be excluded from features.\n",
    "4. Column `SalePrice` only exists in training data, and is approximately a 6-figure number.\n",
    "5. The dimension of training data is 81 while that of testing data is 80 because training data includes target variable `SalePrice`."
   ]
  },
  {
   "cell_type": "code",
   "execution_count": 3,
   "metadata": {},
   "outputs": [
    {
     "name": "stdout",
     "output_type": "stream",
     "text": [
      "Train data shape: (1460, 81)\n",
      "Test data shape: (1459, 80)\n"
     ]
    }
   ],
   "source": [
    "print (\"Train data shape:\", train.shape)\n",
    "print (\"Test data shape:\", test.shape)"
   ]
  },
  {
   "cell_type": "code",
   "execution_count": 4,
   "metadata": {},
   "outputs": [
    {
     "data": {
      "text/html": [
       "<div>\n",
       "<style scoped>\n",
       "    .dataframe tbody tr th:only-of-type {\n",
       "        vertical-align: middle;\n",
       "    }\n",
       "\n",
       "    .dataframe tbody tr th {\n",
       "        vertical-align: top;\n",
       "    }\n",
       "\n",
       "    .dataframe thead th {\n",
       "        text-align: right;\n",
       "    }\n",
       "</style>\n",
       "<table border=\"1\" class=\"dataframe\">\n",
       "  <thead>\n",
       "    <tr style=\"text-align: right;\">\n",
       "      <th></th>\n",
       "      <th>Id</th>\n",
       "      <th>MSSubClass</th>\n",
       "      <th>MSZoning</th>\n",
       "      <th>LotFrontage</th>\n",
       "      <th>LotArea</th>\n",
       "      <th>Street</th>\n",
       "      <th>Alley</th>\n",
       "      <th>LotShape</th>\n",
       "      <th>LandContour</th>\n",
       "      <th>Utilities</th>\n",
       "      <th>...</th>\n",
       "      <th>PoolArea</th>\n",
       "      <th>PoolQC</th>\n",
       "      <th>Fence</th>\n",
       "      <th>MiscFeature</th>\n",
       "      <th>MiscVal</th>\n",
       "      <th>MoSold</th>\n",
       "      <th>YrSold</th>\n",
       "      <th>SaleType</th>\n",
       "      <th>SaleCondition</th>\n",
       "      <th>SalePrice</th>\n",
       "    </tr>\n",
       "  </thead>\n",
       "  <tbody>\n",
       "    <tr>\n",
       "      <th>0</th>\n",
       "      <td>1</td>\n",
       "      <td>60</td>\n",
       "      <td>RL</td>\n",
       "      <td>65.0</td>\n",
       "      <td>8450</td>\n",
       "      <td>Pave</td>\n",
       "      <td>NaN</td>\n",
       "      <td>Reg</td>\n",
       "      <td>Lvl</td>\n",
       "      <td>AllPub</td>\n",
       "      <td>...</td>\n",
       "      <td>0</td>\n",
       "      <td>NaN</td>\n",
       "      <td>NaN</td>\n",
       "      <td>NaN</td>\n",
       "      <td>0</td>\n",
       "      <td>2</td>\n",
       "      <td>2008</td>\n",
       "      <td>WD</td>\n",
       "      <td>Normal</td>\n",
       "      <td>208500</td>\n",
       "    </tr>\n",
       "    <tr>\n",
       "      <th>1</th>\n",
       "      <td>2</td>\n",
       "      <td>20</td>\n",
       "      <td>RL</td>\n",
       "      <td>80.0</td>\n",
       "      <td>9600</td>\n",
       "      <td>Pave</td>\n",
       "      <td>NaN</td>\n",
       "      <td>Reg</td>\n",
       "      <td>Lvl</td>\n",
       "      <td>AllPub</td>\n",
       "      <td>...</td>\n",
       "      <td>0</td>\n",
       "      <td>NaN</td>\n",
       "      <td>NaN</td>\n",
       "      <td>NaN</td>\n",
       "      <td>0</td>\n",
       "      <td>5</td>\n",
       "      <td>2007</td>\n",
       "      <td>WD</td>\n",
       "      <td>Normal</td>\n",
       "      <td>181500</td>\n",
       "    </tr>\n",
       "    <tr>\n",
       "      <th>2</th>\n",
       "      <td>3</td>\n",
       "      <td>60</td>\n",
       "      <td>RL</td>\n",
       "      <td>68.0</td>\n",
       "      <td>11250</td>\n",
       "      <td>Pave</td>\n",
       "      <td>NaN</td>\n",
       "      <td>IR1</td>\n",
       "      <td>Lvl</td>\n",
       "      <td>AllPub</td>\n",
       "      <td>...</td>\n",
       "      <td>0</td>\n",
       "      <td>NaN</td>\n",
       "      <td>NaN</td>\n",
       "      <td>NaN</td>\n",
       "      <td>0</td>\n",
       "      <td>9</td>\n",
       "      <td>2008</td>\n",
       "      <td>WD</td>\n",
       "      <td>Normal</td>\n",
       "      <td>223500</td>\n",
       "    </tr>\n",
       "    <tr>\n",
       "      <th>3</th>\n",
       "      <td>4</td>\n",
       "      <td>70</td>\n",
       "      <td>RL</td>\n",
       "      <td>60.0</td>\n",
       "      <td>9550</td>\n",
       "      <td>Pave</td>\n",
       "      <td>NaN</td>\n",
       "      <td>IR1</td>\n",
       "      <td>Lvl</td>\n",
       "      <td>AllPub</td>\n",
       "      <td>...</td>\n",
       "      <td>0</td>\n",
       "      <td>NaN</td>\n",
       "      <td>NaN</td>\n",
       "      <td>NaN</td>\n",
       "      <td>0</td>\n",
       "      <td>2</td>\n",
       "      <td>2006</td>\n",
       "      <td>WD</td>\n",
       "      <td>Abnorml</td>\n",
       "      <td>140000</td>\n",
       "    </tr>\n",
       "    <tr>\n",
       "      <th>4</th>\n",
       "      <td>5</td>\n",
       "      <td>60</td>\n",
       "      <td>RL</td>\n",
       "      <td>84.0</td>\n",
       "      <td>14260</td>\n",
       "      <td>Pave</td>\n",
       "      <td>NaN</td>\n",
       "      <td>IR1</td>\n",
       "      <td>Lvl</td>\n",
       "      <td>AllPub</td>\n",
       "      <td>...</td>\n",
       "      <td>0</td>\n",
       "      <td>NaN</td>\n",
       "      <td>NaN</td>\n",
       "      <td>NaN</td>\n",
       "      <td>0</td>\n",
       "      <td>12</td>\n",
       "      <td>2008</td>\n",
       "      <td>WD</td>\n",
       "      <td>Normal</td>\n",
       "      <td>250000</td>\n",
       "    </tr>\n",
       "  </tbody>\n",
       "</table>\n",
       "<p>5 rows × 81 columns</p>\n",
       "</div>"
      ],
      "text/plain": [
       "   Id  MSSubClass MSZoning  LotFrontage  LotArea Street Alley LotShape  \\\n",
       "0   1          60       RL         65.0     8450   Pave   NaN      Reg   \n",
       "1   2          20       RL         80.0     9600   Pave   NaN      Reg   \n",
       "2   3          60       RL         68.0    11250   Pave   NaN      IR1   \n",
       "3   4          70       RL         60.0     9550   Pave   NaN      IR1   \n",
       "4   5          60       RL         84.0    14260   Pave   NaN      IR1   \n",
       "\n",
       "  LandContour Utilities  ... PoolArea PoolQC Fence MiscFeature MiscVal MoSold  \\\n",
       "0         Lvl    AllPub  ...        0    NaN   NaN         NaN       0      2   \n",
       "1         Lvl    AllPub  ...        0    NaN   NaN         NaN       0      5   \n",
       "2         Lvl    AllPub  ...        0    NaN   NaN         NaN       0      9   \n",
       "3         Lvl    AllPub  ...        0    NaN   NaN         NaN       0      2   \n",
       "4         Lvl    AllPub  ...        0    NaN   NaN         NaN       0     12   \n",
       "\n",
       "  YrSold  SaleType  SaleCondition  SalePrice  \n",
       "0   2008        WD         Normal     208500  \n",
       "1   2007        WD         Normal     181500  \n",
       "2   2008        WD         Normal     223500  \n",
       "3   2006        WD        Abnorml     140000  \n",
       "4   2008        WD         Normal     250000  \n",
       "\n",
       "[5 rows x 81 columns]"
      ]
     },
     "execution_count": 4,
     "metadata": {},
     "output_type": "execute_result"
    }
   ],
   "source": [
    "train.head()"
   ]
  },
  {
   "cell_type": "code",
   "execution_count": 5,
   "metadata": {},
   "outputs": [],
   "source": [
    "# test.head()"
   ]
  },
  {
   "cell_type": "markdown",
   "metadata": {},
   "source": [
    "### Data preprocessing"
   ]
  },
  {
   "cell_type": "markdown",
   "metadata": {},
   "source": [
    "For data preprocessing and feature engineering, we did the followings:\n",
    "1. Scaling Training Target: Log transform the skewed target variable by taking $log(SalePrice)$\n",
    "2. Drop column `Id`\n",
    "3. For Numeric Features: \n",
    "    1. Missing data imputation\n",
    "    2. Log transform the skewed features by taking $log(feature + 1)$\n",
    "4. For Categorical Features: One-hot encoding"
   ]
  },
  {
   "cell_type": "markdown",
   "metadata": {},
   "source": [
    "#### 1. Scaling Training Target"
   ]
  },
  {
   "cell_type": "markdown",
   "metadata": {},
   "source": [
    "We used `plt.hist()` to plot a histogram of `SalePrice`. From the first graph, we can see that the original distribution of `SalePrice` in training data is positively-skewed (right-skewed). \n",
    "As we are performing regression, we applied log transformation on the skewed variable to improve the linearity of the data. After log transformation, the histogram looks more like normal distribution, and the skewness value is closer to 0. Lastly, we stored the log-transformed training target in a new variable `y_train_all`. "
   ]
  },
  {
   "cell_type": "code",
   "execution_count": 6,
   "metadata": {},
   "outputs": [],
   "source": [
    "# train.SalePrice.describe()"
   ]
  },
  {
   "cell_type": "code",
   "execution_count": 7,
   "metadata": {},
   "outputs": [
    {
     "data": {
      "image/png": "[encoded data removed]",
      "text/plain": [
       "<Figure size 432x288 with 1 Axes>"
      ]
     },
     "metadata": {
      "needs_background": "light"
     },
     "output_type": "display_data"
    },
    {
     "name": "stdout",
     "output_type": "stream",
     "text": [
      "Skewness for Saleprice = 1.8828757597682129\n"
     ]
    },
    {
     "data": {
      "image/png": "[encoded data removed]",
      "text/plain": [
       "<Figure size 432x288 with 1 Axes>"
      ]
     },
     "metadata": {
      "needs_background": "light"
     },
     "output_type": "display_data"
    },
    {
     "name": "stdout",
     "output_type": "stream",
     "text": [
      "Skewness for log(Saleprice) = 0.12133506220520406\n"
     ]
    }
   ],
   "source": [
    "# Plot histograms\n",
    "\n",
    "# original distribution\n",
    "plt.hist(train.SalePrice)\n",
    "plt.show()\n",
    "print (\"Skewness for Saleprice =\", train.SalePrice.skew())\n",
    "# distribution after log transformation\n",
    "plt.hist(np.log(train.SalePrice))    \n",
    "plt.show()\n",
    "print (\"Skewness for log(Saleprice) =\", np.log(train.SalePrice).skew())"
   ]
  },
  {
   "cell_type": "code",
   "execution_count": 8,
   "metadata": {},
   "outputs": [],
   "source": [
    "# Log transform training target\n",
    "y_train_all = np.log(train.SalePrice)"
   ]
  },
  {
   "cell_type": "markdown",
   "metadata": {},
   "source": [
    "#### 2. Drop column `Id` "
   ]
  },
  {
   "cell_type": "markdown",
   "metadata": {},
   "source": [
    "Since the same process of feature engineering needs to be performed on both training and testing data, we combined them first to variable `X`, and later separated them back to `X_train_all` and `X_test` depending on whether they have values for column `SalePrice` or not. \n",
    "\n",
    "We dropped the column `Id` because it does not convey any meaning to the housing price and should be excluded from the set of features."
   ]
  },
  {
   "cell_type": "code",
   "execution_count": 9,
   "metadata": {},
   "outputs": [],
   "source": [
    "X = pd.concat([train, test], ignore_index=True, sort=False)\n",
    "X_target = X.SalePrice\n",
    "X = X.drop(columns = ['Id', 'SalePrice'])"
   ]
  },
  {
   "cell_type": "markdown",
   "metadata": {},
   "source": [
    "#### 3. Feature Engineering for Numeric Features"
   ]
  },
  {
   "cell_type": "code",
   "execution_count": 10,
   "metadata": {},
   "outputs": [],
   "source": [
    "# Filter out numerical features\n",
    "numeric_features = X.select_dtypes(include=[np.number])"
   ]
  },
  {
   "cell_type": "code",
   "execution_count": 11,
   "metadata": {},
   "outputs": [],
   "source": [
    "# Compute pearson correlation among all numerical features\n",
    "corr = train.select_dtypes(include=[np.number]).corr()\n",
    "\n",
    "# Output the highest 5 positively and negatively-correlated features of target variable\n",
    "# print (corr['SalePrice'].sort_values(ascending=False)[1:6])\n",
    "# print (corr['SalePrice'].sort_values(ascending=True)[:5])"
   ]
  },
  {
   "cell_type": "markdown",
   "metadata": {},
   "source": [
    "#### 3A. Missing Data Imputation\n",
    "\n",
    "Most missing values come from `LotFrontage`(486 rows) and `GarageYrBlt`(159 rows). \n",
    "\n",
    "The definition of feature `LotFrontage` is \" Linear feet of street connected to property.\" We hypothesized that the missing values indicate that there are no street connected to the property. Thus, we fill in 0 values.\n",
    "\n",
    "The definition of feature `GarageYrBlt` is \"Year garage was built.\" We hypothesized that the missing values mean that there is no garage in the property. However, since this feature is highly correlated to another feature `YearBuilt` (r = 0.825667), we chose to fill in the corresponding values of `YearBuilt` to the missing values of `GarageYrBlt`.\n",
    "\n",
    "As for the rest of the features with missing values, we simply filled in the *median* of the feature because this method is easy and fast, and it works well with small numerical datasets."
   ]
  },
  {
   "cell_type": "code",
   "execution_count": 12,
   "metadata": {},
   "outputs": [
    {
     "data": {
      "text/plain": [
       "LotFrontage     486\n",
       "GarageYrBlt     159\n",
       "MasVnrArea       23\n",
       "BsmtHalfBath      2\n",
       "BsmtFullBath      2\n",
       "GarageArea        1\n",
       "GarageCars        1\n",
       "TotalBsmtSF       1\n",
       "BsmtUnfSF         1\n",
       "BsmtFinSF2        1\n",
       "BsmtFinSF1        1\n",
       "dtype: int64"
      ]
     },
     "execution_count": 12,
     "metadata": {},
     "output_type": "execute_result"
    }
   ],
   "source": [
    "# List what numeric variables have missing values\n",
    "train_null_count = numeric_features.isnull().sum()\n",
    "train_null_count[train_null_count > 0].sort_values(ascending=False)"
   ]
  },
  {
   "cell_type": "code",
   "execution_count": 13,
   "metadata": {},
   "outputs": [],
   "source": [
    "# LotFrontage: Linear feet of street connected to property\n",
    "\n",
    "# X.LotFrontage.describe()\n",
    "X.LotFrontage = X.LotFrontage.fillna(0)"
   ]
  },
  {
   "cell_type": "code",
   "execution_count": 14,
   "metadata": {},
   "outputs": [
    {
     "name": "stdout",
     "output_type": "stream",
     "text": [
      "YearBuilt       0.825667\n",
      "YearRemodAdd    0.642277\n",
      "GarageCars      0.588920\n",
      "GarageArea      0.564567\n",
      "OverallQual     0.547766\n",
      "Name: GarageYrBlt, dtype: float64\n"
     ]
    }
   ],
   "source": [
    "# GarageYrBlt: Year garage was built\n",
    "\n",
    "# X.GarageYrBlt.describe()\n",
    "print (corr['GarageYrBlt'].sort_values(ascending=False)[1:6])\n",
    "# print (corr['GarageYrBlt'].sort_values(ascending=True)[:5])\n",
    "\n",
    "X.GarageYrBlt = X.GarageYrBlt.fillna(X.YearBuilt).astype('int64')"
   ]
  },
  {
   "cell_type": "code",
   "execution_count": 15,
   "metadata": {},
   "outputs": [],
   "source": [
    "# The rest of the features: fill in median of the feature\n",
    "X = X.fillna(X.median())"
   ]
  },
  {
   "cell_type": "markdown",
   "metadata": {},
   "source": [
    "#### 3B. Scaling numerical features\n",
    "\n",
    "Log transform skewed numeric features by taking $log(feature + 1)$. This is because linear regression models work better with feature distribution close to Gaussian Distribution. We defined the skewed features as features with skewness less than -1 or greater than 1, following a general rule of thumb cited [here](https://help.gooddata.com/doc/en/reporting-and-dashboards/maql-analytical-query-language/maql-expression-reference/aggregation-functions/statistical-functions/predictive-statistical-use-cases/normality-testing-skewness-and-kurtosis#:~:text=As%20a%20general%20rule%20of,the%20distribution%20is%20approximately%20symmetric.).\n",
    "\n"
   ]
  },
  {
   "cell_type": "code",
   "execution_count": 16,
   "metadata": {},
   "outputs": [
    {
     "name": "stdout",
     "output_type": "stream",
     "text": [
      "Skewed features:  ['MSSubClass' 'LotArea' 'MasVnrArea' 'BsmtFinSF1' 'BsmtFinSF2'\n",
      " 'TotalBsmtSF' '1stFlrSF' 'LowQualFinSF' 'GrLivArea' 'BsmtHalfBath'\n",
      " 'KitchenAbvGr' 'WoodDeckSF' 'OpenPorchSF' 'EnclosedPorch' '3SsnPorch'\n",
      " 'ScreenPorch' 'PoolArea' 'MiscVal']\n"
     ]
    }
   ],
   "source": [
    "skewed_features = X[numeric_features.columns].apply(lambda x: x.skew()) # compute skewness\n",
    "skewed_features = skewed_features[(skewed_features > 1) | (skewed_features < -1)]\n",
    "skewed_features = skewed_features.index\n",
    "print(\"Skewed features: \", skewed_features.values)\n",
    "\n",
    "X[skewed_features] = np.log1p(X[skewed_features])"
   ]
  },
  {
   "cell_type": "markdown",
   "metadata": {},
   "source": [
    "#### 4. Feature Engineering for Categorical Features"
   ]
  },
  {
   "cell_type": "markdown",
   "metadata": {},
   "source": [
    "For categorical features, we simply perform one-hot encoding using `pd.get_dummies()`, which converts categorical variable into dummy/indicator variables.\n",
    "\n",
    "Finally, we get 288 features in total."
   ]
  },
  {
   "cell_type": "code",
   "execution_count": 17,
   "metadata": {},
   "outputs": [
    {
     "data": {
      "text/plain": [
       "PoolQC          2909\n",
       "MiscFeature     2814\n",
       "Alley           2721\n",
       "Fence           2348\n",
       "FireplaceQu     1420\n",
       "GarageCond       159\n",
       "GarageQual       159\n",
       "GarageFinish     159\n",
       "GarageType       157\n",
       "BsmtExposure      82\n",
       "BsmtCond          82\n",
       "BsmtQual          81\n",
       "BsmtFinType2      80\n",
       "BsmtFinType1      79\n",
       "MasVnrType        24\n",
       "MSZoning           4\n",
       "Functional         2\n",
       "Utilities          2\n",
       "Exterior1st        1\n",
       "SaleType           1\n",
       "Exterior2nd        1\n",
       "KitchenQual        1\n",
       "Electrical         1\n",
       "dtype: int64"
      ]
     },
     "execution_count": 17,
     "metadata": {},
     "output_type": "execute_result"
    }
   ],
   "source": [
    "# List what categorical variables have missing values\n",
    "train_null_count = X.isnull().sum()    # can also use df.isna()\n",
    "train_null_count[train_null_count > 0].sort_values(ascending=False)"
   ]
  },
  {
   "cell_type": "code",
   "execution_count": 18,
   "metadata": {},
   "outputs": [],
   "source": [
    "# One hot encoding\n",
    "X = pd.get_dummies(X)"
   ]
  },
  {
   "cell_type": "code",
   "execution_count": 19,
   "metadata": {},
   "outputs": [],
   "source": [
    "X = pd.concat([X, X_target], axis=1)\n",
    "X_train_all = X.loc[X['SalePrice'].notna()]\n",
    "X_test = X.loc[X['SalePrice'].isna()]\n",
    "\n",
    "# Drop columns\n",
    "X_train_all = X_train_all.drop(columns = ['SalePrice'])\n",
    "X_test = X_test.drop(columns = ['SalePrice'])"
   ]
  },
  {
   "cell_type": "code",
   "execution_count": 20,
   "metadata": {},
   "outputs": [
    {
     "name": "stdout",
     "output_type": "stream",
     "text": [
      "X_train_all shape:  (1460, 288)\n",
      "X_test shape:  (1459, 288)\n"
     ]
    }
   ],
   "source": [
    "print(\"X_train_all shape: \", X_train_all.shape)\n",
    "print(\"X_test shape: \",X_test.shape)"
   ]
  },
  {
   "cell_type": "markdown",
   "metadata": {},
   "source": [
    "### Model"
   ]
  },
  {
   "cell_type": "code",
   "execution_count": 21,
   "metadata": {},
   "outputs": [],
   "source": [
    "# import libraries\n",
    "from sklearn.model_selection import train_test_split\n",
    "from sklearn.linear_model import LinearRegression, Ridge, RidgeCV, Lasso, LassoCV\n",
    "from sklearn.metrics import mean_squared_error"
   ]
  },
  {
   "cell_type": "code",
   "execution_count": 22,
   "metadata": {},
   "outputs": [],
   "source": [
    "# Split training set (X_train) and hold out set (X_val) from all training data (X_train_all)\n",
    "# test size is set to 15%\n",
    "X_train, X_val, y_train, y_val = train_test_split(X_train_all, y_train_all, test_size=.15, random_state=42)"
   ]
  },
  {
   "cell_type": "markdown",
   "metadata": {},
   "source": [
    "#### 1. Least squares: Linear Regression"
   ]
  },
  {
   "cell_type": "code",
   "execution_count": 23,
   "metadata": {},
   "outputs": [
    {
     "name": "stdout",
     "output_type": "stream",
     "text": [
      "R square for Linear Regression = 0.9067478893453533\n",
      "RMSE for Linear Regression = 0.1333051171930655\n"
     ]
    }
   ],
   "source": [
    "lr = LinearRegression()\n",
    "linear_model = lr.fit(X_train, y_train)\n",
    "\n",
    "print (\"R square for Linear Regression =\", linear_model.score(X_val, y_val))\n",
    "print ('RMSE for Linear Regression =', mean_squared_error(y_val, linear_model.predict(X_val), squared=False))"
   ]
  },
  {
   "cell_type": "code",
   "execution_count": 24,
   "metadata": {},
   "outputs": [],
   "source": [
    "# train model using all training data\n",
    "linear_model = LinearRegression().fit(X_train_all, y_train_all)"
   ]
  },
  {
   "cell_type": "markdown",
   "metadata": {},
   "source": [
    "#### 2. Regularized Least Squares - Lasso Regression (L1 Regularization)"
   ]
  },
  {
   "cell_type": "code",
   "execution_count": 25,
   "metadata": {},
   "outputs": [],
   "source": [
    "# Generate a list of alpha values\n",
    "alphas = 10**np.arange(-3.8, 0, 0.1)"
   ]
  },
  {
   "cell_type": "code",
   "execution_count": 26,
   "metadata": {},
   "outputs": [
    {
     "name": "stdout",
     "output_type": "stream",
     "text": [
      "R square for Lasso Regression = 0.9301552448992806\n",
      "RMSE for Lasso Regression = 0.11536774005776772\n",
      "when alpha = 0.00015848931924611142\n"
     ]
    }
   ],
   "source": [
    "# Choose alpha by min RMSE on our validation set X_val\n",
    "\n",
    "model_list = []\n",
    "rsquare_list = []\n",
    "rmse_list = []\n",
    "for alpha in alphas:\n",
    "    model = Lasso(alpha=alpha)\n",
    "    model = model.fit(X_train, y_train)\n",
    "    model_list.append(model)\n",
    "    pred = model.predict(X_val)\n",
    "    rsquare_list.append(model.score(X_val, y_val))\n",
    "    rmse_list.append(mean_squared_error(y_val, pred, squared=False))\n",
    "print(\"R square for Lasso Regression =\", rsquare_list[rmse_list.index(min(rmse_list))])\n",
    "print(\"RMSE for Lasso Regression =\", min(rmse_list))\n",
    "print(\"when alpha =\", alphas[rmse_list.index(min(rmse_list))])\n",
    "\n",
    "lasso_model = model_list[rmse_list.index(min(rmse_list))]"
   ]
  },
  {
   "cell_type": "code",
   "execution_count": 27,
   "metadata": {},
   "outputs": [
    {
     "data": {
      "text/plain": [
       "<function matplotlib.pyplot.show(*args, **kw)>"
      ]
     },
     "execution_count": 27,
     "metadata": {},
     "output_type": "execute_result"
    },
    {
     "data": {
      "image/png": "[encoded data removed]",
      "text/plain": [
       "<Figure size 432x288 with 1 Axes>"
      ]
     },
     "metadata": {
      "needs_background": "light"
     },
     "output_type": "display_data"
    }
   ],
   "source": [
    "# Plot RMSE of different alphas\n",
    "\n",
    "plt.plot(alphas, rmse_list)\n",
    "plt.title(\"Testing alpha value for Lasso Regression model\")\n",
    "plt.xlabel(\"alpha\")\n",
    "plt.ylabel(\"RMSE\")\n",
    "plt.show"
   ]
  },
  {
   "cell_type": "code",
   "execution_count": 28,
   "metadata": {},
   "outputs": [
    {
     "name": "stdout",
     "output_type": "stream",
     "text": [
      "R square for Lasso Regression = 0.9480071434877752\n",
      "RMSE for Lasso Regression = 0.09953809506505314\n",
      "when alpha = 0.000501187233627273\n"
     ]
    }
   ],
   "source": [
    "# Choose alpha by cross validation (cv=5) on all training set\n",
    "\n",
    "lasso_model_cv = LassoCV(alphas = alphas, cv=5).fit(X_train_all, y_train_all)\n",
    "print (\"R square for Lasso Regression =\", lasso_model_cv.score(X_val, y_val))\n",
    "print (\"RMSE for Lasso Regression =\", mean_squared_error(y_val, lasso_model_cv.predict(X_val), squared=False))\n",
    "print (\"when alpha =\", lasso_model_cv.alpha_)"
   ]
  },
  {
   "cell_type": "code",
   "execution_count": 29,
   "metadata": {},
   "outputs": [
    {
     "name": "stdout",
     "output_type": "stream",
     "text": [
      "Lasso picked 107 variables and eliminated the other 181 variables\n"
     ]
    },
    {
     "data": {
      "text/plain": [
       "Text(0.5, 1.0, 'Coefficients in the Lasso Model')"
      ]
     },
     "execution_count": 29,
     "metadata": {},
     "output_type": "execute_result"
    },
    {
     "data": {
      "image/png": "[encoded data removed]",
      "text/plain": [
       "<Figure size 576x432 with 1 Axes>"
      ]
     },
     "metadata": {
      "needs_background": "light"
     },
     "output_type": "display_data"
    }
   ],
   "source": [
    "# Plot coefficients in the Lasso model\n",
    "\n",
    "coef = pd.Series(lasso_model_cv.coef_, index = X_train.columns)\n",
    "print(\"Lasso picked \" + str(sum(coef != 0)) + \" variables and eliminated the other \" +  str(sum(coef == 0)) + \" variables\")\n",
    "\n",
    "imp_coef = pd.concat([coef.sort_values().head(5),\n",
    "                     coef.sort_values().tail(5)])\n",
    "plt.rcParams['figure.figsize'] = (8.0, 6.0)\n",
    "imp_coef.plot(kind = \"barh\")\n",
    "plt.title(\"Coefficients in the Lasso Model\")"
   ]
  },
  {
   "cell_type": "markdown",
   "metadata": {},
   "source": [
    "#### 3. Regularized Least Squares: Lasso Regression (L2 Regularization)"
   ]
  },
  {
   "cell_type": "code",
   "execution_count": 30,
   "metadata": {},
   "outputs": [],
   "source": [
    "# Generate a list of alpha values\n",
    "alphas = 10**np.arange(-2, 1.8, 0.1)"
   ]
  },
  {
   "cell_type": "code",
   "execution_count": 31,
   "metadata": {},
   "outputs": [
    {
     "name": "stdout",
     "output_type": "stream",
     "text": [
      "R square for Ridge Regression = 0.925594926955858\n",
      "RMSE for Ridge Regression = 0.11907449807431947\n",
      "when alpha = 0.1995262314968885\n"
     ]
    }
   ],
   "source": [
    "# Choose alpha by min RMSE on our validation set X_val\n",
    "\n",
    "model_list = []\n",
    "rsquare_list = []\n",
    "rmse_list = []\n",
    "for alpha in alphas:\n",
    "    model = Ridge(alpha=alpha)\n",
    "    model = model.fit(X_train, y_train)\n",
    "    model_list.append(model)\n",
    "    pred = model.predict(X_val)\n",
    "    rsquare_list.append(model.score(X_val, y_val))\n",
    "    rmse_list.append(mean_squared_error(y_val, pred, squared=False))\n",
    "print(\"R square for Ridge Regression =\", rsquare_list[rmse_list.index(min(rmse_list))])\n",
    "print(\"RMSE for Ridge Regression =\", min(rmse_list))\n",
    "print(\"when alpha =\", alphas[rmse_list.index(min(rmse_list))])\n",
    "\n",
    "ridge_model = model_list[rmse_list.index(min(rmse_list))]"
   ]
  },
  {
   "cell_type": "code",
   "execution_count": 32,
   "metadata": {},
   "outputs": [
    {
     "data": {
      "text/plain": [
       "<function matplotlib.pyplot.show(*args, **kw)>"
      ]
     },
     "execution_count": 32,
     "metadata": {},
     "output_type": "execute_result"
    },
    {
     "data": {
      "image/png": "[encoded data removed]",
      "text/plain": [
       "<Figure size 576x432 with 1 Axes>"
      ]
     },
     "metadata": {
      "needs_background": "light"
     },
     "output_type": "display_data"
    }
   ],
   "source": [
    "# Plot RMSE of different alphas\n",
    "\n",
    "plt.plot(alphas, rmse_list)\n",
    "plt.title(\"Testing alpha value for Ridge Regression model\")\n",
    "plt.xlabel(\"alpha\")\n",
    "plt.ylabel(\"RMSE\")\n",
    "plt.show"
   ]
  },
  {
   "cell_type": "code",
   "execution_count": 33,
   "metadata": {},
   "outputs": [
    {
     "name": "stdout",
     "output_type": "stream",
     "text": [
      "R square for Ridge Regression = 0.9442285350494903\n",
      "RMSE for Ridge Regression = 0.10309165506693088\n",
      "when alpha = 12.589254117941753\n"
     ]
    }
   ],
   "source": [
    "# Choose alpha by cross validation (cv=5) on all training set\n",
    "\n",
    "ridge_model_cv = RidgeCV(alphas = alphas, cv=5).fit(X_train_all, y_train_all)\n",
    "print (\"R square for Ridge Regression =\", ridge_model_cv.score(X_val, y_val))\n",
    "print (\"RMSE for Ridge Regression =\", mean_squared_error(y_val, ridge_model_cv.predict(X_val), squared=False))\n",
    "print (\"when alpha =\", ridge_model_cv.alpha_)"
   ]
  },
  {
   "cell_type": "code",
   "execution_count": 34,
   "metadata": {},
   "outputs": [
    {
     "data": {
      "text/plain": [
       "Text(0.5, 1.0, 'Coefficients in the Ridge Model')"
      ]
     },
     "execution_count": 34,
     "metadata": {},
     "output_type": "execute_result"
    },
    {
     "data": {
      "image/png": "[encoded data removed]",
      "text/plain": [
       "<Figure size 576x432 with 1 Axes>"
      ]
     },
     "metadata": {
      "needs_background": "light"
     },
     "output_type": "display_data"
    }
   ],
   "source": [
    "# Plot coefficients in the Ridge model\n",
    "\n",
    "coef = pd.Series(ridge_model_cv.coef_, index = X_train.columns)\n",
    "imp_coef = pd.concat([coef.sort_values().head(5),\n",
    "                     coef.sort_values().tail(5)])\n",
    "plt.rcParams['figure.figsize'] = (8.0, 6.0)\n",
    "imp_coef.plot(kind = \"barh\")\n",
    "plt.title(\"Coefficients in the Ridge Model\")"
   ]
  },
  {
   "cell_type": "markdown",
   "metadata": {},
   "source": [
    "### Submission to Kaggle"
   ]
  },
  {
   "cell_type": "code",
   "execution_count": 35,
   "metadata": {},
   "outputs": [],
   "source": [
    "pred_linear = np.exp(linear_model.predict(X_test))\n",
    "pred_lasso = np.exp(lasso_model.predict(X_test))\n",
    "pred_ridge = np.exp(ridge_model.predict(X_test))\n",
    "pred_lassocv = np.exp(lasso_model_cv.predict(X_test))\n",
    "pred_ridgecv = np.exp(ridge_model_cv.predict(X_test))"
   ]
  },
  {
   "cell_type": "code",
   "execution_count": 36,
   "metadata": {},
   "outputs": [],
   "source": [
    "res = pd.DataFrame()\n",
    "res['Id'] = test.Id\n",
    "res['SalePrice'] = pred_linear\n",
    "res.to_csv('./res/linear.csv', index=False)"
   ]
  },
  {
   "cell_type": "code",
   "execution_count": 37,
   "metadata": {},
   "outputs": [],
   "source": [
    "res = pd.DataFrame()\n",
    "res['Id'] = test.Id\n",
    "res['SalePrice'] = pred_lasso\n",
    "res.to_csv('./res/lasso.csv', index=False)"
   ]
  },
  {
   "cell_type": "code",
   "execution_count": 38,
   "metadata": {},
   "outputs": [],
   "source": [
    "res = pd.DataFrame()\n",
    "res['Id'] = test.Id\n",
    "res['SalePrice'] = pred_ridge\n",
    "res.to_csv('./res/ridge.csv', index=False)"
   ]
  },
  {
   "cell_type": "code",
   "execution_count": 39,
   "metadata": {},
   "outputs": [],
   "source": [
    "res = pd.DataFrame()\n",
    "res['Id'] = test.Id\n",
    "res['SalePrice'] = pred_lassocv\n",
    "res.to_csv('./res/lassocv.csv', index=False)"
   ]
  },
  {
   "cell_type": "code",
   "execution_count": 40,
   "metadata": {},
   "outputs": [],
   "source": [
    "res = pd.DataFrame()\n",
    "res['Id'] = test.Id\n",
    "res['SalePrice'] = pred_ridgecv\n",
    "res.to_csv('./res/ridgecv.csv', index=False)"
   ]
  }
 ],
 "metadata": {
  "kernelspec": {
   "display_name": "Python 3",
   "language": "python",
   "name": "python3"
  },
  "language_info": {
   "codemirror_mode": {
    "name": "ipython",
    "version": 3
   },
   "file_extension": ".py",
   "mimetype": "text/x-python",
   "name": "python",
   "nbconvert_exporter": "python",
   "pygments_lexer": "ipython3",
   "version": "3.7.3"
  }
 },
 "nbformat": 4,
 "nbformat_minor": 4
}
